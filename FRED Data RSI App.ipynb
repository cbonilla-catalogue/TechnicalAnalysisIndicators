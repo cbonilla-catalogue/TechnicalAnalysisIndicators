{
 "cells": [
  {
   "cell_type": "code",
   "execution_count": 6,
   "metadata": {},
   "outputs": [],
   "source": [
    "#%% ----------------------------------- Package Imports\n",
    "import pandas as pd\n",
    "from numpy import nan\n",
    "import dash\n",
    "import dash_table\n",
    "from fredapi import Fred\n",
    "fred = Fred(api_key='287dcf1a4ec41e9f44645fb74180eb42')\n",
    "import pandas as pd\n",
    "import numpy as num\n",
    "from ipywidgets import interact, interactive, fixed, interact_manual, Button, HBox, VBox, Layout\n",
    "import ipywidgets as widgets\n",
    "from ipywidgets import Button, HBox, VBox\n",
    "import matplotlib.pyplot as plt\n",
    "import numpy as np\n",
    "from IPython.display import display\n",
    "plt.style.use('seaborn')\n",
    "%config InlineBackend.figure_format = 'svg'\n",
    "from __future__ import print_function\n",
    "from bqplot import topo_load\n",
    "from bqplot.interacts import panzoom\n",
    "import datetime as dt"
   ]
  },
  {
   "cell_type": "code",
   "execution_count": null,
   "metadata": {},
   "outputs": [],
   "source": [
    "def pv(cash_flow, period, day_count, cost_of_capital):\n",
    "    #day_count is meant to proxy the length of the \"period\" the cash flow is received in \n",
    "    v = cash_flow/((1+cost_of_capital)**(period*day_count))\n",
    "    return v"
   ]
  },
  {
   "cell_type": "code",
   "execution_count": 8,
   "metadata": {},
   "outputs": [
    {
     "data": {
      "application/vnd.jupyter.widget-view+json": {
       "model_id": "2b2b57baf86b4f939a50d72ff348488d",
       "version_major": 2,
       "version_minor": 0
      },
      "text/plain": [
       "VBox(children=(HBox(children=(IntSlider(value=1, description='u', max=3, min=-1), IntSlider(value=2, descripti…"
      ]
     },
     "metadata": {},
     "output_type": "display_data"
    }
   ],
   "source": [
    "from ipywidgets import interactive,interact, HBox, Layout,VBox\n",
    "#function to plot the different curves\n",
    "def plot_function(u=1,v=2,w=3,x=4,y=5,z=6):\n",
    "    time=np.arange(0,1,0.01)\n",
    "    df=pd.DataFrame({\"Y1\":np.sin(time*u*2*np.pi),\"y2\":np.sin(time*v*2*np.pi),\"y3\":np.sin(time*w*2*np.pi),\n",
    "                    \"y4\":np.sin(time*x*2*np.pi),\"y5\":np.sin(time*y*2*np.pi),\"y6\":np.sin(time*z*2*np.pi)})\n",
    "    df.plot()\n",
    "widget=interactive(plot_function,u=1,v=2,w=3,x=4,y=5,z=6)\n",
    "controls = HBox(widget.children[:-1], layout = Layout(flex_flow='row wrap'))\n",
    "output = widget.children[-1]\n",
    "display(VBox([controls, output]))"
   ]
  },
  {
   "cell_type": "code",
   "execution_count": 4,
   "metadata": {},
   "outputs": [],
   "source": [
    "df = fred.search('US rates')\n",
    "USrates = df.loc[df['frequency']=='Monthly']\n",
    "#df['title'].T\n",
    "#df = df['title'].T\n",
    "#df.columns\n",
    "#df.loc(df['frequency_short']=='M')\n",
    "#df = df.loc[df['frequency']=='Monthly'].T"
   ]
  },
  {
   "cell_type": "code",
   "execution_count": 11,
   "metadata": {},
   "outputs": [
    {
     "ename": "AttributeError",
     "evalue": "'Select' object has no attribute 'Layout'",
     "output_type": "error",
     "traceback": [
      "\u001b[1;31m---------------------------------------------------------------------------\u001b[0m",
      "\u001b[1;31mAttributeError\u001b[0m                            Traceback (most recent call last)",
      "\u001b[1;32m<ipython-input-11-d06650c1c5e8>\u001b[0m in \u001b[0;36m<module>\u001b[1;34m()\u001b[0m\n\u001b[0;32m      1\u001b[0m \u001b[0mx\u001b[0m \u001b[1;33m=\u001b[0m \u001b[0mwidgets\u001b[0m\u001b[1;33m.\u001b[0m\u001b[0mSelect\u001b[0m\u001b[1;33m(\u001b[0m\u001b[0moptions\u001b[0m\u001b[1;33m=\u001b[0m\u001b[0mUSrates\u001b[0m\u001b[1;33m[\u001b[0m\u001b[1;34m'title'\u001b[0m\u001b[1;33m]\u001b[0m\u001b[1;33m.\u001b[0m\u001b[0mtolist\u001b[0m\u001b[1;33m(\u001b[0m\u001b[1;33m)\u001b[0m\u001b[1;33m,\u001b[0m \u001b[0mlayout\u001b[0m\u001b[1;33m=\u001b[0m\u001b[0mLayout\u001b[0m\u001b[1;33m(\u001b[0m\u001b[0mwidth\u001b[0m\u001b[1;33m=\u001b[0m \u001b[1;34m'600px'\u001b[0m\u001b[1;33m)\u001b[0m\u001b[1;33m)\u001b[0m\u001b[1;33m\u001b[0m\u001b[1;33m\u001b[0m\u001b[0m\n\u001b[1;32m----> 2\u001b[1;33m \u001b[0mx\u001b[0m\u001b[1;33m.\u001b[0m\u001b[0mLayout\u001b[0m\u001b[1;33m.\u001b[0m\u001b[0mwidth\u001b[0m \u001b[1;33m=\u001b[0m \u001b[1;34m'600px'\u001b[0m\u001b[1;33m\u001b[0m\u001b[1;33m\u001b[0m\u001b[0m\n\u001b[0m\u001b[0;32m      3\u001b[0m y = widgets.IntSlider(\n\u001b[0;32m      4\u001b[0m     \u001b[0mvalue\u001b[0m\u001b[1;33m=\u001b[0m\u001b[1;36m3\u001b[0m\u001b[1;33m,\u001b[0m\u001b[1;33m\u001b[0m\u001b[1;33m\u001b[0m\u001b[0m\n\u001b[0;32m      5\u001b[0m     \u001b[0mmin\u001b[0m\u001b[1;33m=\u001b[0m\u001b[1;36m0\u001b[0m\u001b[1;33m,\u001b[0m\u001b[1;33m\u001b[0m\u001b[1;33m\u001b[0m\u001b[0m\n",
      "\u001b[1;31mAttributeError\u001b[0m: 'Select' object has no attribute 'Layout'"
     ]
    }
   ],
   "source": [
    "x = widgets.Select(options=USrates['title'].tolist(), layout=Layout(width= '600px'))\n",
    "y = widgets.IntSlider(\n",
    "    value=3,\n",
    "    min=0,\n",
    "    step=1,\n",
    "    description='RSI Window:',\n",
    "    disabled=False,\n",
    "    continuous_update=False,\n",
    "    orientation='horizontal',\n",
    "    readout=True,\n",
    "    readout_format='d') \n",
    "#display(x)\n",
    "\n",
    "def g(x,y):\n",
    "    \n",
    "    import numpy as np\n",
    "    import matplotlib.pyplot as plt\n",
    "    from matplotlib.collections import LineCollection\n",
    "    from matplotlib.colors import ListedColormap, BoundaryNorm\n",
    "    \n",
    "    plot_series = USrates.loc[USrates['title']==x].index[0]\n",
    "    #print(plot_series)\n",
    "    def generate_RSI_stats(df, series,RSI_decay=3):\n",
    "        df = pd.DataFrame(data = fred.get_series(series),columns =[series])\n",
    "        dff = 'diff_'+series\n",
    "        dn = series+'_dn'\n",
    "        up = series+'_up'\n",
    "        df[dff] = df[series].diff()\n",
    "        df[up] = df[dff]\n",
    "        df.loc[df[dff] < 0, up] = 0\n",
    "        df[up] = (df[up]).ewm(alpha=(1/RSI_decay)).mean()\n",
    "        df[dn] = df[dff]\n",
    "        df.loc[df[dff] > 0, dn] = 0\n",
    "        df[dn] = (df[dn]).ewm(alpha=(1/RSI_decay)).mean()\n",
    "        df[series+'_RSI_signal'] = 100-100/(1-df[up]/df[dn])\n",
    "        df = df[[series,series+'_RSI_signal']]\n",
    "        return df\n",
    "    \n",
    "    plots = generate_RSI_stats(df = fred.get_series(plot_series), series=plot_series,RSI_decay=y).plot(subplots=True)\n",
    "    plt.show()\n",
    "        \n",
    "interact(g, x=x, y=y);\n"
   ]
  },
  {
   "cell_type": "code",
   "execution_count": 7,
   "metadata": {},
   "outputs": [
    {
     "data": {
      "application/vnd.jupyter.widget-view+json": {
       "model_id": "79b0356ece7949d8a9aef9536fb61cdc",
       "version_major": 2,
       "version_minor": 0
      },
      "text/plain": [
       "interactive(children=(FloatText(value=100.0, description='Initial Cash Flow:'), FloatText(value=1.0, descripti…"
      ]
     },
     "metadata": {},
     "output_type": "display_data"
    }
   ],
   "source": [
    "@interact(cash_flow=widgets.FloatText(\n",
    "    value=100,\n",
    "    description='Initial Cash Flow:',\n",
    "    disabled=False\n",
    "),period=widgets.FloatText(\n",
    "    value=1,\n",
    "    description='Discount Periods:',\n",
    "    disabled=False\n",
    "), day_count=widgets.FloatText(\n",
    "    value=1,\n",
    "    description='Day Count:',\n",
    "    disabled=False\n",
    "), cost_of_capital=widgets.FloatText(\n",
    "    value=.07,\n",
    "    description='Cost of Capital:',\n",
    "    disabled=False\n",
    "))\n",
    "def pv(cash_flow, period, day_count, cost_of_capital):\n",
    "    #day_count is meant to proxy the length of the \"period\" the cash flow is received in \n",
    "    v = cash_flow/((1+cost_of_capital)**(period*day_count))\n",
    "    return v"
   ]
  }
 ],
 "metadata": {
  "kernelspec": {
   "display_name": "Python 3",
   "language": "python",
   "name": "python3"
  },
  "language_info": {
   "codemirror_mode": {
    "name": "ipython",
    "version": 3
   },
   "file_extension": ".py",
   "mimetype": "text/x-python",
   "name": "python",
   "nbconvert_exporter": "python",
   "pygments_lexer": "ipython3",
   "version": "3.6.8"
  }
 },
 "nbformat": 4,
 "nbformat_minor": 2
}
